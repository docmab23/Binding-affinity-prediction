{
 "cells": [
  {
   "cell_type": "code",
   "execution_count": 10,
   "metadata": {},
   "outputs": [
    {
     "ename": "ImportError",
     "evalue": "cannot import name 'all_descriptors' from 'mordred' (C:\\Users\\Administrator\\Anaconda3\\envs\\my-rdkit-env\\lib\\site-packages\\mordred\\__init__.py)",
     "output_type": "error",
     "traceback": [
      "\u001b[1;31m---------------------------------------------------------------------------\u001b[0m",
      "\u001b[1;31mImportError\u001b[0m                               Traceback (most recent call last)",
      "\u001b[1;32m<ipython-input-10-4c7dc463f6f2>\u001b[0m in \u001b[0;36m<module>\u001b[1;34m\u001b[0m\n\u001b[0;32m     41\u001b[0m \u001b[1;32mfrom\u001b[0m \u001b[0mpropy\u001b[0m\u001b[1;33m.\u001b[0m\u001b[0mCTD\u001b[0m \u001b[1;32mimport\u001b[0m \u001b[0mCalculateCTD\u001b[0m\u001b[1;33m\u001b[0m\u001b[1;33m\u001b[0m\u001b[0m\n\u001b[0;32m     42\u001b[0m \u001b[1;32mfrom\u001b[0m \u001b[0mpropy\u001b[0m\u001b[1;33m.\u001b[0m\u001b[0mAAComposition\u001b[0m \u001b[1;32mimport\u001b[0m \u001b[0mCalculateAAComposition\u001b[0m\u001b[1;33m\u001b[0m\u001b[1;33m\u001b[0m\u001b[0m\n\u001b[1;32m---> 43\u001b[1;33m \u001b[1;32mfrom\u001b[0m \u001b[0mmordred\u001b[0m \u001b[1;32mimport\u001b[0m \u001b[0mCalculator\u001b[0m\u001b[1;33m,\u001b[0m \u001b[0mall_descriptors\u001b[0m\u001b[1;33m\u001b[0m\u001b[1;33m\u001b[0m\u001b[0m\n\u001b[0m\u001b[0;32m     44\u001b[0m \u001b[1;33m\u001b[0m\u001b[0m\n",
      "\u001b[1;31mImportError\u001b[0m: cannot import name 'all_descriptors' from 'mordred' (C:\\Users\\Administrator\\Anaconda3\\envs\\my-rdkit-env\\lib\\site-packages\\mordred\\__init__.py)"
     ]
    }
   ],
   "source": [
    "import numpy as np\n",
    "import pandas as pd\n",
    "from rdkit.Chem import PandasTools\n",
    "from propy.CTD import CalculateCTD\n",
    "#from propy.CTD import CalculateAAComposition\n",
    "from propy.GetProteinFromUniprot import GetProteinSequence\n",
    "import pickle \n",
    "from mordred import Calculator, descriptors\n",
    "from rdkit import Chem \n",
    "import numpy as np\n",
    "#from rdkit import DataStructs\n",
    "#from rdkit.Chem import Draw\n",
    "#from rdkit.Chem.Fingerprints.FingerprintMols import GetRDKFingerprint\n",
    "#from rdkit.Chem.Fingerprints.FingerprintMols import FingerprintMol\n",
    "#from rdkit.Chem.AtomPairs import Pairs\n",
    "#from rdkit.Chem import AllChem as convert\n",
    "#from rdkit.Chem.rdMolChemicalFeatures import BuildFeatureFactory \n",
    "#from rdkit.Chem.EState.Fingerprinter import FingerprintMol\n",
    "#from rdkit.Chem.AtomPairs.Pairs import GetAtomPairFingerprintAsBitVect\n",
    "#from rdkit.Chem import Lipinski as l\n",
    "import pandas as pd\n",
    "#from oddt.interactions import hbonds\n",
    "#from oddt.toolkits.ob import Atom\n",
    "#from rdkit.Chem.Descriptors import FpDensityMorgan1 as morgan\\\n",
    "import rdkit.Chem.Descriptors as desc\n",
    "#from Bio.PDB import PDBParser\n",
    "#from Bio.PDB.DSSP import DSSP\n",
    "#from prody import *\n",
    "import urllib\n",
    "#from padelpy import padeldescriptor\n",
    "#from padelpy import from_smiles\n",
    "from rdkit.Chem import PandasTools\n",
    "from mordred import Calculator, descriptors\n",
    "from rdkit.Chem.rdmolfiles import MolFromMol2File\n",
    "#from rdkit.Chem.ChemicalFeatures import MCFF_GetFeaturesForMol\n",
    "#from rdkit.Chem.EState.EState import EStateIndices\n",
    "#from rdkit.Chem.EState.EState import MaxEStateIndex\n",
    "#from rdkit.Chem.MolDb.FingerprintUtils import BuildMorganFP\n",
    "from propy import PyPro\n",
    "from propy.GetProteinFromUniprot import GetProteinSequence\n",
    "from propy.CTD import CalculateCTD\n",
    "from propy.AAComposition import CalculateAAComposition\n",
    "from mordred import Calculator, all_descriptors\n",
    "\n"
   ]
  },
  {
   "cell_type": "code",
   "execution_count": 4,
   "metadata": {},
   "outputs": [
    {
     "name": "stdout",
     "output_type": "stream",
     "text": [
      "Requirement already satisfied: mordred in c:\\users\\administrator\\anaconda3\\envs\\my-rdkit-env\\lib\\site-packages (1.2.0)"
     ]
    },
    {
     "name": "stderr",
     "output_type": "stream",
     "text": [
      "Error processing line 1 of C:\\Users\\Administrator\\Anaconda3\\envs\\my-rdkit-env\\lib\\site-packages\\matplotlib-3.2.1-py3.7-nspkg.pth:\n",
      "\n",
      "  Traceback (most recent call last):\n",
      "    File \"C:\\Users\\Administrator\\Anaconda3\\envs\\my-rdkit-env\\lib\\site.py\", line 168, in addpackage\n",
      "      exec(line)\n",
      "    File \"<string>\", line 1, in <module>\n",
      "    File \"<frozen importlib._bootstrap>\", line 580, in module_from_spec\n",
      "  AttributeError: 'NoneType' object has no attribute 'loader'\n",
      "\n",
      "Remainder of file ignored\n",
      "WARNING: Error parsing requirements for cycler: [Errno 2] No such file or directory: 'c:\\\\users\\\\administrator\\\\anaconda3\\\\envs\\\\my-rdkit-env\\\\lib\\\\site-packages\\\\cycler-0.10.0.dist-info\\\\METADATA'\n"
     ]
    },
    {
     "name": "stdout",
     "output_type": "stream",
     "text": [
      "\n",
      "Requirement already satisfied: numpy==1.* in c:\\users\\administrator\\anaconda3\\envs\\my-rdkit-env\\lib\\site-packages (from mordred) (1.19.4)\n",
      "Requirement already satisfied: six==1.* in c:\\users\\administrator\\anaconda3\\envs\\my-rdkit-env\\lib\\site-packages (from mordred) (1.15.0)\n",
      "Collecting networkx==2.*\n",
      "  Downloading networkx-2.5-py3-none-any.whl (1.6 MB)\n",
      "Requirement already satisfied: decorator>=4.3.0 in c:\\users\\administrator\\anaconda3\\envs\\my-rdkit-env\\lib\\site-packages (from networkx==2.*->mordred) (4.4.2)\n",
      "Installing collected packages: networkx\n",
      "Successfully installed networkx-2.5\n"
     ]
    }
   ],
   "source": [
    "!pip install mordred\n"
   ]
  },
  {
   "cell_type": "code",
   "execution_count": 11,
   "metadata": {},
   "outputs": [],
   "source": [
    "def ligs_feats(smi):\n",
    "\n",
    "        df_mordred=pd.DataFrame({   'smiles' : [smi],\n",
    "                                    'name'   : ['a'],\n",
    "                                    'value'  : [1] })\n",
    "\n",
    "        def apply_molfromsmiles(smiles_name):\n",
    "            mols = Chem.MolFromSmiles(smiles_name)\n",
    "            return mols\n",
    "\n",
    "        df_mordred['mols'] = df_mordred['smiles'].map(apply_molfromsmiles)\n",
    "        #print(df_mordred)\n",
    "\n",
    "\n",
    "        calc =Calculator(descriptors, ignore_3D = True)\n",
    "        #print('before calc.pandas')\n",
    "        X = calc.pandas(df_mordred['mols']).astype('float').dropna(axis = 1)\n",
    "        #print('after calc.pandas')\n",
    "        #g=ligs_feats(smi)\n",
    "\n",
    "        ligs = pd.read_csv(\"X_lig.csv\")\n",
    "        ligs =ligs.drop(['Unnamed: 0'],1)\n",
    "        features = list(ligs.columns)\n",
    "        g = X[features]\n",
    "        return g\n",
    "\n",
    "\n",
    "\n",
    "\n",
    "\n",
    "\n",
    "\n",
    "def get_Ki():\n",
    "    uniprot_id =input(\"Enter uniprot_id for the protein\") \n",
    "    smile = input(\"Enter the Ligand/Drug in SMILES format\")\n",
    "    protein = GetProteinSequence(ProteinID=uniprot_id)\n",
    "    AA_comp = CalculateAAComposition(protein)\n",
    "    CTD_feats =  CalculateCTD(protein)\n",
    "    CTD_feats =(pd.DataFrame.from_dict(CTD_feats, orient='index').T)\n",
    "    AA_comp=(pd.DataFrame.from_dict(AA_comp, orient= 'index').T)\n",
    "    #mols = Chem.MolFromSmiles(smile)\n",
    "    #calc = Calculator(descriptors, ignore_3D=True)\n",
    "    #df1 = calc.pandas(mols)\n",
    "    df1=ligs_feats(smile)\n",
    "    df2 = pd.concat([CTD_feats,AA_comp],axis=1,ignore_index=True)\n",
    "    #df1 = df1[[lig_feats]]\n",
    "    final= pd.concat([df1,df2],axis=1,ignore_index=True)\n",
    "    final = np.array(final)\n",
    "    file_name = \"xgb_reg.pkl\"\n",
    "\n",
    "    xgb_model_ = pickle.load(open(file_name, \"rb\"))\n",
    "    Inhibition_constant = xgb_model_.predict(final)\n",
    "    \n",
    "    return Inhibition_constant\n",
    "    \n",
    "    "
   ]
  },
  {
   "cell_type": "code",
   "execution_count": null,
   "metadata": {},
   "outputs": [
    {
     "name": "stdin",
     "output_type": "stream",
     "text": [
      "Enter uniprot_id for the protein \n"
     ]
    }
   ],
   "source": [
    "get_Ki()"
   ]
  },
  {
   "cell_type": "code",
   "execution_count": 4,
   "metadata": {},
   "outputs": [],
   "source": [
    "def ligs_feats(smi):\n",
    "\n",
    "        df_mordred=pd.DataFrame({   'smiles' : [smi],\n",
    "                                    'name'   : ['a'],\n",
    "                                    'value'  : [1] })\n",
    "\n",
    "        def apply_molfromsmiles(smiles_name):\n",
    "            mols = Chem.MolFromSmiles(smiles_name)\n",
    "            return mols\n",
    "\n",
    "        df_mordred['mols'] = df_mordred['smiles'].map(apply_molfromsmiles)\n",
    "        #print(df_mordred)\n",
    "\n",
    "\n",
    "        calc =Calculator(descriptors, ignore_3D = True)\n",
    "        #print('before calc.pandas')\n",
    "        X = calc.pandas(df_mordred['mols']).astype('float').dropna(axis = 1)\n",
    "        #print('after calc.pandas')\n",
    "        #g=ligs_feats(smi)\n",
    "\n",
    "        ligs = pd.read_csv(\"X_lig.csv\")\n",
    "        ligs =ligs.drop(['Unnamed: 0'],1)\n",
    "        features = list(ligs.columns)\n",
    "        g = X[features]\n",
    "        return X\n",
    "    "
   ]
  },
  {
   "cell_type": "code",
   "execution_count": null,
   "metadata": {},
   "outputs": [],
   "source": [
    "smiles  = \"CC1=CC2=C(C(O)=C1)C(=O)C1=C(C=C(O)C=C1O)C2=O\"\n",
    "uniprot_id  = 'P56817'\n"
   ]
  },
  {
   "cell_type": "code",
   "execution_count": 9,
   "metadata": {},
   "outputs": [
    {
     "name": "stdin",
     "output_type": "stream",
     "text": [
      "Enter uniprot_id for the protein P56817\n",
      "Enter the Ligand/Drug in SMILES format CC1=CC2=C(C(O)=C1)C(=O)C1=C(C=C(O)C=C1O)C2=O\n"
     ]
    },
    {
     "name": "stderr",
     "output_type": "stream",
     "text": [
      "100%|██████████| 1/1 [00:02<00:00,  2.59s/it]\n"
     ]
    },
    {
     "data": {
      "text/plain": [
       "array([278.1984], dtype=float32)"
      ]
     },
     "execution_count": 9,
     "metadata": {},
     "output_type": "execute_result"
    }
   ],
   "source": [
    "get_Ki()#get"
   ]
  },
  {
   "cell_type": "code",
   "execution_count": null,
   "metadata": {},
   "outputs": [],
   "source": []
  }
 ],
 "metadata": {
  "kernelspec": {
   "display_name": "Python 3",
   "language": "python",
   "name": "python3"
  },
  "language_info": {
   "codemirror_mode": {
    "name": "ipython",
    "version": 3
   },
   "file_extension": ".py",
   "mimetype": "text/x-python",
   "name": "python",
   "nbconvert_exporter": "python",
   "pygments_lexer": "ipython3",
   "version": "3.7.9"
  }
 },
 "nbformat": 4,
 "nbformat_minor": 4
}
