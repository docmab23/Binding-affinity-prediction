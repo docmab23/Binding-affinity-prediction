{
 "cells": [
  {
   "cell_type": "code",
   "execution_count": 1,
   "metadata": {},
   "outputs": [],
   "source": [
    "from sklearn.ensemble import RandomForestRegressor\n",
    "import pandas as pd\n",
    "from sklearn.model_selection import train_test_split\n",
    "import numpy as np\n",
    "from sklearn.metrics import mean_squared_error\n",
    "from xgboost import XGBRegressor as xgbr#from sklearn.gaussian_process import GaussianProcessRegressor\n",
    "#from sklearn.gaussian_process.kernels import RBF, ConstantKernel as C\n",
    "#from sklearn.svm import SVR\n",
    "from sklearn.preprocessing import StandardScaler\n",
    "#from sklearn.pipeline import Pipeline, FeatureUnion"
   ]
  },
  {
   "cell_type": "code",
   "execution_count": 2,
   "metadata": {},
   "outputs": [],
   "source": [
    "data = pd.read_csv('ff_x.csv')\n",
    "target = np.load(\"ff_y.npy\",allow_pickle=True)\n",
    "#total = pd.concat([data,target],axis=1)\n",
    "data = data.drop([\"Unnamed: 0\"],1)\n",
    "#data = np.array(data)\n",
    "'''all_ = pd.DataFrame(data=data)\n",
    "all_['target'] = target\n",
    "all_ = all_.sample(frac=1)\n",
    "X = all_.drop([\"target\"],1)\n",
    "y = all_['target']'''\n",
    "data.replace([np.inf, -np.inf], np.nan, inplace=True) \n",
    "data = data.fillna(0)\n",
    "scaler = StandardScaler()\n",
    "scaler.fit(data)\n",
    "data =scaler.transform(data)\n"
   ]
  },
  {
   "cell_type": "code",
   "execution_count": 3,
   "metadata": {},
   "outputs": [
    {
     "data": {
      "text/plain": [
       "array([[ 0.88254416,  1.287247  ,  3.60530755, ..., -0.35274258,\n",
       "         2.68720008, -4.33665859],\n",
       "       [ 0.1311666 ,  0.33516731, -0.16768872, ..., -0.59887586,\n",
       "         1.67430362,  1.27263393],\n",
       "       [ 0.1311666 ,  0.33516731, -0.16768872, ..., -0.59887586,\n",
       "         1.67430362,  1.27263393],\n",
       "       ...,\n",
       "       [-0.35868485, -0.6307977 , -0.16768872, ...,  0.75001202,\n",
       "        -0.31027937, -0.24092796],\n",
       "       [-0.26328343, -0.53645099, -0.16768872, ...,  0.75001202,\n",
       "        -0.31027937, -0.24092796],\n",
       "       [-0.35868485, -0.6307977 , -0.16768872, ...,  0.75001202,\n",
       "        -0.31027937, -0.24092796]])"
      ]
     },
     "execution_count": 3,
     "metadata": {},
     "output_type": "execute_result"
    }
   ],
   "source": [
    "#total = total.drop(['Unnamed: 0','Unnamed: 0.1','Unnamed: 0'],1)\n",
    "#X = total.drop(['Ki (nM)'],1)\n",
    "#y = total['Ki (nM)']\n",
    "target =target.astype(np.float)\n",
    "data"
   ]
  },
  {
   "cell_type": "code",
   "execution_count": 4,
   "metadata": {},
   "outputs": [],
   "source": [
    "X_train, X_test, y_train, y_test = train_test_split(data, target, test_size=0.10, random_state=42)"
   ]
  },
  {
   "cell_type": "code",
   "execution_count": 5,
   "metadata": {},
   "outputs": [
    {
     "ename": "NameError",
     "evalue": "name 'SVR' is not defined",
     "output_type": "error",
     "traceback": [
      "\u001b[1;31m---------------------------------------------------------------------------\u001b[0m",
      "\u001b[1;31mNameError\u001b[0m                                 Traceback (most recent call last)",
      "\u001b[1;32m<ipython-input-5-e21a778a07b9>\u001b[0m in \u001b[0;36m<module>\u001b[1;34m\u001b[0m\n\u001b[0;32m     10\u001b[0m \u001b[0mgp\u001b[0m \u001b[1;33m=\u001b[0m \u001b[0mGaussianProcessRegressor\u001b[0m\u001b[1;33m(\u001b[0m\u001b[0mkernel\u001b[0m\u001b[1;33m=\u001b[0m\u001b[0mkernel\u001b[0m\u001b[1;33m,\u001b[0m \u001b[0mn_restarts_optimizer\u001b[0m\u001b[1;33m=\u001b[0m\u001b[1;36m9\u001b[0m\u001b[1;33m)\u001b[0m\u001b[1;33m\u001b[0m\u001b[1;33m\u001b[0m\u001b[0m\n\u001b[0;32m     11\u001b[0m gp.fit(X_train,y_train)'''\n\u001b[1;32m---> 12\u001b[1;33m \u001b[0mvr\u001b[0m \u001b[1;33m=\u001b[0m \u001b[0mSVR\u001b[0m\u001b[1;33m(\u001b[0m\u001b[1;33m)\u001b[0m\u001b[1;33m\u001b[0m\u001b[1;33m\u001b[0m\u001b[0m\n\u001b[0m\u001b[0;32m     13\u001b[0m \u001b[0mvr\u001b[0m\u001b[1;33m.\u001b[0m\u001b[0mfit\u001b[0m\u001b[1;33m(\u001b[0m\u001b[0mX_train\u001b[0m \u001b[1;33m,\u001b[0m\u001b[0my_train\u001b[0m\u001b[1;33m)\u001b[0m\u001b[1;33m\u001b[0m\u001b[1;33m\u001b[0m\u001b[0m\n\u001b[0;32m     14\u001b[0m \u001b[0mvr\u001b[0m\u001b[1;33m.\u001b[0m\u001b[0mscore\u001b[0m\u001b[1;33m(\u001b[0m\u001b[0mX_train\u001b[0m\u001b[1;33m,\u001b[0m\u001b[0my_train\u001b[0m\u001b[1;33m)\u001b[0m\u001b[1;33m\u001b[0m\u001b[1;33m\u001b[0m\u001b[0m\n",
      "\u001b[1;31mNameError\u001b[0m: name 'SVR' is not defined"
     ]
    }
   ],
   "source": [
    "regr = RandomForestRegressor(max_depth=30,n_estimators=1000)\n",
    "regr.fit(X_train, y_train)\n",
    "regr.score(X_train,y_train)\n",
    "\n",
    "xgb = xgbr(max_depth=20,n_estimators=1000)\n",
    "xgb.fit(X_train,y_train)\n",
    "\n",
    "#xgr.score(X_train,y_train)\n",
    "'''kernel=C(1.0, (1e-3, 1e3)) * RBF(10, (1e-2, 1e2))\n",
    "gp = GaussianProcessRegressor(kernel=kernel, n_restarts_optimizer=9)\n",
    "gp.fit(X_train,y_train)'''\n",
    "vr = SVR()\n",
    "vr.fit(X_train ,y_train)\n",
    "vr.score(X_train,y_train)\n",
    "regr.score(X_train,y_train)\n"
   ]
  },
  {
   "cell_type": "code",
   "execution_count": 84,
   "metadata": {},
   "outputs": [],
   "source": [
    "#predictions_rf = regr.predict(X_test)\n",
    "predictions_xg = xgbr.predict(X_test)\n",
    "predictions =(predictions_rf+predictions_xg)/2\n",
    "comp =(predictions_ ,y_test)\n",
    "numerics = ['int16','int32','int64','float16','float32','float64']\n",
    "y_test = y_test.astype(np.float) "
   ]
  },
  {
   "cell_type": "code",
   "execution_count": 31,
   "metadata": {},
   "outputs": [
    {
     "data": {
      "text/plain": [
       "array([[1.        , 0.88550256],\n",
       "       [0.88550256, 1.        ]])"
      ]
     },
     "execution_count": 31,
     "metadata": {},
     "output_type": "execute_result"
    }
   ],
   "source": [
    "xgb.score(X_train,y_train)\n",
    "predicts = xgb.predict(X_test)\n",
    "corr = np.corrcoef(predicts,y_test)\n"
   ]
  },
  {
   "cell_type": "code",
   "execution_count": 27,
   "metadata": {},
   "outputs": [
    {
     "ename": "NameError",
     "evalue": "name 'predictions' is not defined",
     "output_type": "error",
     "traceback": [
      "\u001b[1;31m---------------------------------------------------------------------------\u001b[0m",
      "\u001b[1;31mNameError\u001b[0m                                 Traceback (most recent call last)",
      "\u001b[1;32m<ipython-input-27-b59fd6d5050c>\u001b[0m in \u001b[0;36m<module>\u001b[1;34m\u001b[0m\n\u001b[1;32m----> 1\u001b[1;33m \u001b[0md\u001b[0m \u001b[1;33m=\u001b[0m \u001b[1;33m{\u001b[0m\u001b[1;34m'actual'\u001b[0m\u001b[1;33m:\u001b[0m \u001b[0my_test\u001b[0m\u001b[1;33m,\u001b[0m \u001b[1;34m'predicted'\u001b[0m\u001b[1;33m:\u001b[0m \u001b[0mpredictions\u001b[0m\u001b[1;33m}\u001b[0m\u001b[1;33m\u001b[0m\u001b[1;33m\u001b[0m\u001b[0m\n\u001b[0m\u001b[0;32m      2\u001b[0m \u001b[0meval\u001b[0m \u001b[1;33m=\u001b[0m \u001b[0mpd\u001b[0m\u001b[1;33m.\u001b[0m\u001b[0mDataFrame\u001b[0m\u001b[1;33m(\u001b[0m\u001b[0mdata\u001b[0m\u001b[1;33m=\u001b[0m\u001b[0md\u001b[0m \u001b[1;33m,\u001b[0m \u001b[0mcolumns\u001b[0m \u001b[1;33m=\u001b[0m \u001b[1;33m[\u001b[0m\u001b[1;34m'actual'\u001b[0m\u001b[1;33m,\u001b[0m \u001b[1;34m'predicted'\u001b[0m\u001b[1;33m]\u001b[0m\u001b[1;33m)\u001b[0m\u001b[1;33m\u001b[0m\u001b[1;33m\u001b[0m\u001b[0m\n\u001b[0;32m      3\u001b[0m \u001b[0meval\u001b[0m\u001b[1;33m.\u001b[0m\u001b[0mto_csv\u001b[0m\u001b[1;33m(\u001b[0m\u001b[1;34m\"ensemble.csv\"\u001b[0m\u001b[1;33m)\u001b[0m\u001b[1;33m\u001b[0m\u001b[1;33m\u001b[0m\u001b[0m\n",
      "\u001b[1;31mNameError\u001b[0m: name 'predictions' is not defined"
     ]
    }
   ],
   "source": [
    "d = {'actual': y_test, 'predicted': predictions}\n",
    "eval = pd.DataFrame(data=d , columns = ['actual', 'predicted'])\n",
    "eval.to_csv(\"ensemble.csv\")"
   ]
  },
  {
   "cell_type": "code",
   "execution_count": 66,
   "metadata": {},
   "outputs": [
    {
     "name": "stderr",
     "output_type": "stream",
     "text": [
      "C:\\ProgramData\\Anaconda3\\lib\\site-packages\\sklearn\\gaussian_process\\gpr.py:346: UserWarning: Predicted variances smaller than 0. Setting those variances to 0.\n",
      "  warnings.warn(\"Predicted variances smaller than 0. \"\n"
     ]
    }
   ],
   "source": [
    "gp.score(X_train,y_train)\n",
    "y_pred,sigma = gp.predict(X_test, return_std=True)\n",
    "y_pred = y_pred+sigma\n",
    "corr =np.corrcoef(y_pred,y_test)\n",
    "gaussian = pd.DataFrame()\n",
    "gaussian['pred'] = y_pred\n",
    "gaussian['actual'] = y_test\n",
    "gaussian.to_csv(\"gaussian_res.csv\")"
   ]
  },
  {
   "cell_type": "code",
   "execution_count": 71,
   "metadata": {},
   "outputs": [
    {
     "data": {
      "text/plain": [
       "array([[1.        , 0.34510285],\n",
       "       [0.34510285, 1.        ]])"
      ]
     },
     "execution_count": 71,
     "metadata": {},
     "output_type": "execute_result"
    }
   ],
   "source": [
    "pred_svr = svr.predict(X_test)\n",
    "np.corrcoef(pred_svr , y_test)"
   ]
  },
  {
   "cell_type": "code",
   "execution_count": 77,
   "metadata": {},
   "outputs": [
    {
     "data": {
      "text/plain": [
       "3800.0"
      ]
     },
     "execution_count": 77,
     "metadata": {},
     "output_type": "execute_result"
    }
   ],
   "source": [
    "y_test[64]"
   ]
  },
  {
   "cell_type": "code",
   "execution_count": 34,
   "metadata": {},
   "outputs": [
    {
     "ename": "NameError",
     "evalue": "name 'params' is not defined",
     "output_type": "error",
     "traceback": [
      "\u001b[1;31m---------------------------------------------------------------------------\u001b[0m",
      "\u001b[1;31mNameError\u001b[0m                                 Traceback (most recent call last)",
      "\u001b[1;32m<ipython-input-34-5082b94fcb65>\u001b[0m in \u001b[0;36m<module>\u001b[1;34m\u001b[0m\n\u001b[0;32m      1\u001b[0m cv_results = xgb.cv(\n\u001b[1;32m----> 2\u001b[1;33m     \u001b[0mparams\u001b[0m\u001b[1;33m,\u001b[0m\u001b[1;33m\u001b[0m\u001b[1;33m\u001b[0m\u001b[0m\n\u001b[0m\u001b[0;32m      3\u001b[0m     \u001b[0mdtrain\u001b[0m\u001b[1;33m,\u001b[0m\u001b[1;33m\u001b[0m\u001b[1;33m\u001b[0m\u001b[0m\n\u001b[0;32m      4\u001b[0m     \u001b[0mnum_boost_round\u001b[0m\u001b[1;33m=\u001b[0m\u001b[0mnum_boost_round\u001b[0m\u001b[1;33m,\u001b[0m\u001b[1;33m\u001b[0m\u001b[1;33m\u001b[0m\u001b[0m\n\u001b[0;32m      5\u001b[0m     \u001b[0mseed\u001b[0m\u001b[1;33m=\u001b[0m\u001b[1;36m42\u001b[0m\u001b[1;33m,\u001b[0m\u001b[1;33m\u001b[0m\u001b[1;33m\u001b[0m\u001b[0m\n",
      "\u001b[1;31mNameError\u001b[0m: name 'params' is not defined"
     ]
    }
   ],
   "source": [
    "cv_results = xgb.cv(\n",
    "    params,\n",
    "    dtrain,\n",
    "    num_boost_round=num_boost_round,\n",
    "    seed=42,\n",
    "    nfold=5,\n",
    "    metrics={'mae'},\n",
    "    early_stopping_rounds=10\n",
    ")\n",
    "cv_results"
   ]
  },
  {
   "cell_type": "code",
   "execution_count": 14,
   "metadata": {},
   "outputs": [],
   "source": [
    "ff =pd.read_csv(\"ff.csv\")\n",
    "X = ff.drop(['Unnamed: 0','ID','Ki (nM)','IC50 (nM)' ,'Kd (nM)' ,'EC50 (nM)' ,'ligand_name'],1)\n",
    "y = ff['Ki (nM)']"
   ]
  },
  {
   "cell_type": "code",
   "execution_count": 18,
   "metadata": {},
   "outputs": [
    {
     "data": {
      "text/plain": [
       "(360, 426)"
      ]
     },
     "execution_count": 18,
     "metadata": {},
     "output_type": "execute_result"
    }
   ],
   "source": [
    "numerics = ['int16','int32','int64','float16','float32','float64']\n",
    "numerical_vars = list(X.select_dtypes(include=numerics).columns)\n",
    "X= X[numerical_vars]\n",
    "X.replace([np.inf, -np.inf ,], np.nan, inplace=True) \n",
    "#X =X.dropna()\n",
    "X.fillna(0)\n",
    "X.shape"
   ]
  },
  {
   "cell_type": "code",
   "execution_count": 23,
   "metadata": {},
   "outputs": [],
   "source": [
    "ind =[]\n",
    "for g in y.index:\n",
    "     if y[g].startswith(\">\")==True:\n",
    "        ind.append(y[g])\n",
    "type(ind)\n",
    "for i in ind:\n",
    "    y =y.replace(i,int(i.split(\">\")[1]))"
   ]
  },
  {
   "cell_type": "code",
   "execution_count": 30,
   "metadata": {},
   "outputs": [
    {
     "name": "stderr",
     "output_type": "stream",
     "text": [
      "C:\\ProgramData\\Anaconda3\\lib\\site-packages\\ipykernel_launcher.py:2: FutureWarning: The signature of `Series.to_csv` was aligned to that of `DataFrame.to_csv`, and argument 'header' will change its default value from False to True: please pass an explicit value to suppress this warning.\n",
      "  \n"
     ]
    }
   ],
   "source": [
    "X.to_csv(\"ff_x.csv\")\n",
    "y.to_csv(\"ff_y.csv\")\n",
    "np.save('ff_y.npy', y) # save\n",
    " # load"
   ]
  },
  {
   "cell_type": "code",
   "execution_count": 98,
   "metadata": {},
   "outputs": [
    {
     "data": {
      "text/plain": [
       "array([[1.        , 0.87307902],\n",
       "       [0.87307902, 1.        ]])"
      ]
     },
     "execution_count": 98,
     "metadata": {},
     "output_type": "execute_result"
    }
   ],
   "source": [
    "from sklearn.neighbors import KNeighborsRegressor\n",
    "neigh = KNeighborsRegressor(n_neighbors=7,weights='distance')\n",
    "neigh.fit(X_train, y_train)\n",
    "neigh.score(X_train, y_train)\n",
    "pred_knn =neigh.predict(X_test)\n",
    "np.corrcoef(pred_knn,y_test)\n"
   ]
  },
  {
   "cell_type": "code",
   "execution_count": 4,
   "metadata": {},
   "outputs": [
    {
     "data": {
      "text/plain": [
       "array([[1.        , 0.95742313],\n",
       "       [0.95742313, 1.        ]])"
      ]
     },
     "execution_count": 4,
     "metadata": {},
     "output_type": "execute_result"
    }
   ],
   "source": [
    "import pandas as pd\n",
    "import numpy as np\n",
    "f = pd.read_csv(\"actual_and_predicted.csv\")\n",
    "act = f['actual']\n",
    "pred = f['predicted']\n",
    "np.corrcoef(act,pred)"
   ]
  },
  {
   "cell_type": "code",
   "execution_count": 99,
   "metadata": {},
   "outputs": [],
   "source": [
    "from sklearn.linear_model import LinearRegression, Ridge"
   ]
  },
  {
   "cell_type": "code",
   "execution_count": 104,
   "metadata": {},
   "outputs": [
    {
     "data": {
      "text/plain": [
       "Ridge(alpha=1.0, copy_X=True, fit_intercept=True, max_iter=10, normalize=False,\n",
       "      random_state=None, solver='auto', tol=0.001)"
      ]
     },
     "execution_count": 104,
     "metadata": {},
     "output_type": "execute_result"
    }
   ],
   "source": [
    "ridge = Ridge(max_iter=10)\n",
    "ridge.fit(X_train,y_train)"
   ]
  },
  {
   "cell_type": "code",
   "execution_count": 105,
   "metadata": {},
   "outputs": [
    {
     "data": {
      "text/plain": [
       "0.32703756967623887"
      ]
     },
     "execution_count": 105,
     "metadata": {},
     "output_type": "execute_result"
    }
   ],
   "source": [
    "ridge.score(X_train,y_train)"
   ]
  },
  {
   "cell_type": "code",
   "execution_count": 107,
   "metadata": {},
   "outputs": [
    {
     "data": {
      "text/plain": [
       "array([[-0.13394739, -0.11915472, -0.16768872, ..., -1.61829399,\n",
       "        -0.76141955,  0.45598956],\n",
       "       [-0.45408626, -0.69305448, -0.16768872, ...,  0.75001202,\n",
       "        -0.31027937, -0.24092796],\n",
       "       [ 0.67057565,  1.05518591, -0.16768872, ..., -0.59887586,\n",
       "         1.67430362,  1.27263393],\n",
       "       ...,\n",
       "       [-0.84114803, -1.01765363, -0.16768872, ...,  0.75001202,\n",
       "        -0.31027937, -0.24092796],\n",
       "       [-0.34938229, -0.48550463, -0.16768872, ...,  0.75001202,\n",
       "        -0.31027937, -0.24092796],\n",
       "       [ 0.51661538,  0.70663756, -0.16768872, ..., -0.59887586,\n",
       "         1.67430362,  1.27263393]])"
      ]
     },
     "execution_count": 107,
     "metadata": {},
     "output_type": "execute_result"
    }
   ],
   "source": [
    "X_train"
   ]
  },
  {
   "cell_type": "code",
   "execution_count": 4,
   "metadata": {},
   "outputs": [
    {
     "name": "stdout",
     "output_type": "stream",
     "text": [
      "Collecting xgboost\n",
      "  Downloading xgboost-1.3.0.post0-py3-none-win_amd64.whl (95.2 MB)\n",
      "Requirement already satisfied: numpy in c:\\users\\administrator\\anaconda3\\envs\\my-rdkit-env\\lib\\site-packages (from xgboost) (1.19.4)\n",
      "Requirement already satisfied: scipy in c:\\users\\administrator\\anaconda3\\envs\\my-rdkit-env\\lib\\site-packages (from xgboost) (1.5.3)\n",
      "Installing collected packages: xgboost\n",
      "Successfully installed xgboost-1.3.0.post0\n"
     ]
    },
    {
     "name": "stderr",
     "output_type": "stream",
     "text": [
      "Error processing line 1 of C:\\Users\\Administrator\\Anaconda3\\envs\\my-rdkit-env\\lib\\site-packages\\matplotlib-3.2.1-py3.7-nspkg.pth:\n",
      "\n",
      "  Traceback (most recent call last):\n",
      "    File \"C:\\Users\\Administrator\\Anaconda3\\envs\\my-rdkit-env\\lib\\site.py\", line 168, in addpackage\n",
      "      exec(line)\n",
      "    File \"<string>\", line 1, in <module>\n",
      "    File \"<frozen importlib._bootstrap>\", line 580, in module_from_spec\n",
      "  AttributeError: 'NoneType' object has no attribute 'loader'\n",
      "\n",
      "Remainder of file ignored\n",
      "WARNING: Error parsing requirements for cycler: [Errno 2] No such file or directory: 'c:\\\\users\\\\administrator\\\\anaconda3\\\\envs\\\\my-rdkit-env\\\\lib\\\\site-packages\\\\cycler-0.10.0.dist-info\\\\METADATA'\n"
     ]
    }
   ],
   "source": [
    "!pip install xgboost\n"
   ]
  },
  {
   "cell_type": "code",
   "execution_count": 32,
   "metadata": {},
   "outputs": [
    {
     "data": {
      "text/plain": [
       "'xgb_model_loaded = pickle.load(open(file_name, \"rb\"))\\n\\n# test\\nind = 1\\ntest = X_val[ind]\\nxgb_model_loaded.predict(test)[0] == xgb_model.predict(test)[0]'"
      ]
     },
     "execution_count": 32,
     "metadata": {},
     "output_type": "execute_result"
    }
   ],
   "source": [
    "import pickle\n",
    "file_name = \"xgb_reg.pkl\"\n",
    "\n",
    "# save\n",
    "pickle.dump(xgb, open(file_name, \"wb\"))\n",
    "\n",
    "# load\n",
    "'''xgb_model_loaded = pickle.load(open(file_name, \"rb\"))\n",
    "\n",
    "# test\n",
    "ind = 1\n",
    "test = X_val[ind]\n",
    "xgb_model_loaded.predict(test)[0] == xgb_model.predict(test)[0]'''"
   ]
  },
  {
   "cell_type": "code",
   "execution_count": 33,
   "metadata": {},
   "outputs": [],
   "source": [
    "data = pd.read_csv('ff_x.csv')"
   ]
  },
  {
   "cell_type": "code",
   "execution_count": 37,
   "metadata": {},
   "outputs": [],
   "source": [
    "data =data.drop([\"Unnamed: 0\"],1)"
   ]
  },
  {
   "cell_type": "code",
   "execution_count": 39,
   "metadata": {},
   "outputs": [],
   "source": [
    "features = [d for d in data.columns]"
   ]
  },
  {
   "cell_type": "code",
   "execution_count": 42,
   "metadata": {},
   "outputs": [],
   "source": [
    "features = pd.DataFrame(data=features)\n",
    "features.to_csv(\"features_426.csv\")"
   ]
  },
  {
   "cell_type": "code",
   "execution_count": null,
   "metadata": {},
   "outputs": [],
   "source": [
    "faet"
   ]
  }
 ],
 "metadata": {
  "kernelspec": {
   "display_name": "Python 3",
   "language": "python",
   "name": "python3"
  },
  "language_info": {
   "codemirror_mode": {
    "name": "ipython",
    "version": 3
   },
   "file_extension": ".py",
   "mimetype": "text/x-python",
   "name": "python",
   "nbconvert_exporter": "python",
   "pygments_lexer": "ipython3",
   "version": "3.7.9"
  }
 },
 "nbformat": 4,
 "nbformat_minor": 4
}
